{
  "nbformat": 4,
  "nbformat_minor": 0,
  "metadata": {
    "colab": {
      "provenance": []
    },
    "kernelspec": {
      "name": "python3",
      "display_name": "Python 3"
    },
    "language_info": {
      "name": "python"
    }
  },
  "cells": [
    {
      "cell_type": "markdown",
      "source": [
        "1. Write a function  count_vowels(word) that takes a word as an argument and returns the number of vowels in the word"
      ],
      "metadata": {
        "id": "aXayQQxzA-5M"
      }
    },
    {
      "cell_type": "code",
      "execution_count": 11,
      "metadata": {
        "colab": {
          "base_uri": "https://localhost:8080/"
        },
        "id": "a5u5qGWrAb0P",
        "outputId": "2979cba0-1ad1-4e00-f3ea-f02daf3464c9"
      },
      "outputs": [
        {
          "output_type": "stream",
          "name": "stdout",
          "text": [
            "Type your word to print  the number of vowels in your word: Aashritha\n",
            "Number of vowels in the given string is:  4\n"
          ]
        }
      ],
      "source": [
        "user = input(\"Type your word to print  the number of vowels in your word: \")\n",
        "count_vowels = [\"A\",\"E\",\"I\",\"O\",\"U\",\"a\",\"e\",\"i\",\"o\",\"u\"]\n",
        "count = 0\n",
        "\n",
        "for i in range(len(user)):\n",
        "    if user[i] in count_vowels:\n",
        "        count += 1\n",
        "print(\"Number of vowels in the given string is: \", count)"
      ]
    },
    {
      "cell_type": "markdown",
      "source": [
        "2. Iterate through the following list of animals and print each one in all caps. animals=['tiger', 'elephant', 'monkey', 'zebra', 'panther']\n",
        "\n"
      ],
      "metadata": {
        "id": "Nf9OoVtkFZGE"
      }
    },
    {
      "cell_type": "code",
      "source": [
        "animals=['tiger', 'elephant', 'monkey', 'zebra', 'panther']\n",
        "\n",
        "for animal in animals:\n",
        "    print(animal.upper())"
      ],
      "metadata": {
        "colab": {
          "base_uri": "https://localhost:8080/"
        },
        "id": "AhnTXVqfA96p",
        "outputId": "8bb1cd4d-9c2e-4e64-c52c-ba237d5e008f"
      },
      "execution_count": 15,
      "outputs": [
        {
          "output_type": "stream",
          "name": "stdout",
          "text": [
            "TIGER\n",
            "ELEPHANT\n",
            "MONKEY\n",
            "ZEBRA\n",
            "PANTHER\n"
          ]
        }
      ]
    },
    {
      "cell_type": "markdown",
      "source": [
        "3. Write a program that iterates from 1 to 20, printing each number and whether it's odd or even."
      ],
      "metadata": {
        "id": "QrX_L9KeGaNr"
      }
    },
    {
      "cell_type": "code",
      "source": [
        "for i in range(1,21):\n",
        "  if i % 2 == 0:\n",
        "    print(i, \"is even\")\n",
        "  else:\n",
        "    print(i, \"is odd\")\n"
      ],
      "metadata": {
        "colab": {
          "base_uri": "https://localhost:8080/"
        },
        "id": "WYF6f0VmGfGI",
        "outputId": "e7419b95-b25c-4db9-8250-8d9254b13d03"
      },
      "execution_count": 17,
      "outputs": [
        {
          "output_type": "stream",
          "name": "stdout",
          "text": [
            "1 is odd\n",
            "2 is even\n",
            "3 is odd\n",
            "4 is even\n",
            "5 is odd\n",
            "6 is even\n",
            "7 is odd\n",
            "8 is even\n",
            "9 is odd\n",
            "10 is even\n",
            "11 is odd\n",
            "12 is even\n",
            "13 is odd\n",
            "14 is even\n",
            "15 is odd\n",
            "16 is even\n",
            "17 is odd\n",
            "18 is even\n",
            "19 is odd\n",
            "20 is even\n"
          ]
        }
      ]
    },
    {
      "cell_type": "markdown",
      "source": [
        "4. Write a function sum_of_integers(a, b) that takes two integers as input from the user and returns their sum."
      ],
      "metadata": {
        "id": "VhcZIZdeHeJe"
      }
    },
    {
      "cell_type": "code",
      "source": [
        "first_number = input(\"Enter first number:  \")\n",
        "second_number = input(\"Enter second number:  \")\n",
        "print(int(first_number) + int(second_number), \"is the sume of both the numbers\")"
      ],
      "metadata": {
        "colab": {
          "base_uri": "https://localhost:8080/"
        },
        "id": "IB93cvXsHhUC",
        "outputId": "be4adf6d-c369-48b1-b6ac-337f5a154c9d"
      },
      "execution_count": 19,
      "outputs": [
        {
          "output_type": "stream",
          "name": "stdout",
          "text": [
            "Enter first number:  5678\n",
            "Enter second number:  545\n",
            "6223 is the sume of both the numbers\n"
          ]
        }
      ]
    }
  ]
}